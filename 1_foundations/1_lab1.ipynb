{
 "cells": [
  {
   "cell_type": "markdown",
   "metadata": {},
   "source": [
    "# Welcome to the start of your adventure in Agentic AI"
   ]
  },
  {
   "cell_type": "markdown",
   "metadata": {},
   "source": [
    "<table style=\"margin: 0; text-align: left; width:100%\">\n",
    "    <tr>\n",
    "        <td style=\"width: 150px; height: 150px; vertical-align: middle;\">\n",
    "            <img src=\"../assets/stop.png\" width=\"150\" height=\"150\" style=\"display: block;\" />\n",
    "        </td>\n",
    "        <td>\n",
    "            <h2 style=\"color:#ff7800;\">Are you ready for action??</h2>\n",
    "            <span style=\"color:#ff7800;\">Have you completed all the setup steps in the <a href=\"../setup/\">setup</a> folder?<br/>\n",
    "            Have you read the <a href=\"../README.md\">README</a>? Many common questions are answered here!<br/>\n",
    "            Have you checked out the guides in the <a href=\"../guides/01_intro.ipynb\">guides</a> folder?<br/>\n",
    "            Well in that case, you're ready!!\n",
    "            </span>\n",
    "        </td>\n",
    "    </tr>\n",
    "</table>"
   ]
  },
  {
   "cell_type": "markdown",
   "metadata": {},
   "source": [
    "<table style=\"margin: 0; text-align: left; width:100%\">\n",
    "    <tr>\n",
    "        <td style=\"width: 150px; height: 150px; vertical-align: middle;\">\n",
    "            <img src=\"../assets/tools.png\" width=\"150\" height=\"150\" style=\"display: block;\" />\n",
    "        </td>\n",
    "        <td>\n",
    "            <h2 style=\"color:#00bfff;\">This code is a live resource - keep an eye out for my updates</h2>\n",
    "            <span style=\"color:#00bfff;\">I push updates regularly. As people ask questions or have problems, I add more examples and improve explanations. As a result, the code below might not be identical to the videos, as I've added more steps and better comments. Consider this like an interactive book that accompanies the lectures.<br/><br/>\n",
    "            I try to send emails regularly with important updates related to the course. You can find this in the 'Announcements' section of Udemy in the left sidebar. You can also choose to receive my emails via your Notification Settings in Udemy. I'm respectful of your inbox and always try to add value with my emails!\n",
    "            </span>\n",
    "        </td>\n",
    "    </tr>\n",
    "</table>"
   ]
  },
  {
   "cell_type": "markdown",
   "metadata": {},
   "source": [
    "### And please do remember to contact me if I can help\n",
    "\n",
    "And I love to connect: https://www.linkedin.com/in/eddonner/\n",
    "\n",
    "\n",
    "### New to Notebooks like this one? Head over to the guides folder!\n",
    "\n",
    "Just to check you've already added the Python and Jupyter extensions to Cursor, if not already installed:\n",
    "- Open extensions (View >> extensions)\n",
    "- Search for python, and when the results show, click on the ms-python one, and Install it if not already installed\n",
    "- Search for jupyter, and when the results show, click on the Microsoft one, and Install it if not already installed  \n",
    "Then View >> Explorer to bring back the File Explorer.\n",
    "\n",
    "And then:\n",
    "1. Click where it says \"Select Kernel\" near the top right, and select the option called `.venv (Python 3.12.9)` or similar, which should be the first choice or the most prominent choice. You may need to choose \"Python Environments\" first.\n",
    "2. Click in each \"cell\" below, starting with the cell immediately below this text, and press Shift+Enter to run\n",
    "3. Enjoy!\n",
    "\n",
    "After you click \"Select Kernel\", if there is no option like `.venv (Python 3.12.9)` then please do the following:  \n",
    "1. On Mac: From the Cursor menu, choose Settings >> VS Code Settings (NOTE: be sure to select `VSCode Settings` not `Cursor Settings`);  \n",
    "On Windows PC: From the File menu, choose Preferences >> VS Code Settings(NOTE: be sure to select `VSCode Settings` not `Cursor Settings`)  \n",
    "2. In the Settings search bar, type \"venv\"  \n",
    "3. In the field \"Path to folder with a list of Virtual Environments\" put the path to the project root, like C:\\Users\\username\\projects\\agents (on a Windows PC) or /Users/username/projects/agents (on Mac or Linux).  \n",
    "And then try again.\n",
    "\n",
    "Having problems with missing Python versions in that list? Have you ever used Anaconda before? It might be interferring. Quit Cursor, bring up a new command line, and make sure that your Anaconda environment is deactivated:    \n",
    "`conda deactivate`  \n",
    "And if you still have any problems with conda and python versions, it's possible that you will need to run this too:  \n",
    "`conda config --set auto_activate_base false`  \n",
    "and then from within the Agents directory, you should be able to run `uv python list` and see the Python 3.12 version."
   ]
  },
  {
   "cell_type": "code",
   "execution_count": 20,
   "metadata": {},
   "outputs": [],
   "source": [
    "# First let's do an import. If you get an Import Error, double check that your Kernel is correct..\n",
    "\n",
    "from dotenv import load_dotenv\n"
   ]
  },
  {
   "cell_type": "code",
   "execution_count": 21,
   "metadata": {},
   "outputs": [
    {
     "data": {
      "text/plain": [
       "True"
      ]
     },
     "execution_count": 21,
     "metadata": {},
     "output_type": "execute_result"
    }
   ],
   "source": [
    "# Next it's time to load the API keys into environment variables\n",
    "# If this returns false, see the next cell!\n",
    "\n",
    "load_dotenv(override=True)"
   ]
  },
  {
   "cell_type": "markdown",
   "metadata": {},
   "source": [
    "### Wait, did that just output `False`??\n",
    "\n",
    "If so, the most common reason is that you didn't save your `.env` file after adding the key! Be sure to have saved.\n",
    "\n",
    "Also, make sure the `.env` file is named precisely `.env` and is in the project root directory (`agents`)\n",
    "\n",
    "By the way, your `.env` file should have a stop symbol next to it in Cursor on the left, and that's actually a good thing: that's Cursor saying to you, \"hey, I realize this is a file filled with secret information, and I'm not going to send it to an external AI to suggest changes, because your keys should not be shown to anyone else.\""
   ]
  },
  {
   "cell_type": "markdown",
   "metadata": {},
   "source": [
    "<table style=\"margin: 0; text-align: left; width:100%\">\n",
    "    <tr>\n",
    "        <td style=\"width: 150px; height: 150px; vertical-align: middle;\">\n",
    "            <img src=\"../assets/stop.png\" width=\"150\" height=\"150\" style=\"display: block;\" />\n",
    "        </td>\n",
    "        <td>\n",
    "            <h2 style=\"color:#ff7800;\">Final reminders</h2>\n",
    "            <span style=\"color:#ff7800;\">1. If you're not confident about Environment Variables or Web Endpoints / APIs, please read Topics 3 and 5 in this <a href=\"../guides/04_technical_foundations.ipynb\">technical foundations guide</a>.<br/>\n",
    "            2. If you want to use AIs other than OpenAI, like Gemini, DeepSeek or Ollama (free), please see the first section in this <a href=\"../guides/09_ai_apis_and_ollama.ipynb\">AI APIs guide</a>.<br/>\n",
    "            3. If you ever get a Name Error in Python, you can always fix it immediately; see the last section of this <a href=\"../guides/06_python_foundations.ipynb\">Python Foundations guide</a> and follow both tutorials and exercises.<br/>\n",
    "            </span>\n",
    "        </td>\n",
    "    </tr>\n",
    "</table>"
   ]
  },
  {
   "cell_type": "code",
   "execution_count": 22,
   "metadata": {},
   "outputs": [
    {
     "name": "stdout",
     "output_type": "stream",
     "text": [
      "OpenAI API Key exists and begins sk-or-v1\n"
     ]
    }
   ],
   "source": [
    "# Check the key - if you're not using OpenAI, check whichever key you're using! Ollama doesn't need a key.\n",
    "\n",
    "import os\n",
    "openai_api_key = os.getenv('OPENROUTER_API_KEY')\n",
    "\n",
    "if openai_api_key:\n",
    "    print(f\"OpenAI API Key exists and begins {openai_api_key[:8]}\")\n",
    "else:\n",
    "    print(\"OpenAI API Key not set - please head to the troubleshooting guide in the setup folder\")\n",
    "    \n"
   ]
  },
  {
   "cell_type": "code",
   "execution_count": 23,
   "metadata": {},
   "outputs": [],
   "source": [
    "# And now - the all important import statement\n",
    "# If you get an import error - head over to troubleshooting in the Setup folder\n",
    "\n",
    "from openai import OpenAI"
   ]
  },
  {
   "cell_type": "code",
   "execution_count": null,
   "metadata": {},
   "outputs": [],
   "source": []
  },
  {
   "cell_type": "code",
   "execution_count": 24,
   "metadata": {},
   "outputs": [],
   "source": [
    "# And now we'll create an instance of the OpenAI class\n",
    "# If you're not sure what it means to create an instance of a class - head over to the guides folder (guide 6)!\n",
    "# If you get a NameError - head over to the guides folder (guide 6)to learn about NameErrors - always instantly fixable\n",
    "# If you're not using OpenAI, you just need to slightly modify this - precise instructions are in the AI APIs guide (guide 9)\n",
    "\n",
    "# openai = OpenAI()\n",
    "openai = OpenAI(\n",
    "  base_url=\"https://openrouter.ai/api/v1\",\n",
    "  api_key=os.getenv(\"OPENROUTER_API_KEY\")\n",
    ")\n"
   ]
  },
  {
   "cell_type": "code",
   "execution_count": 18,
   "metadata": {},
   "outputs": [],
   "source": [
    "# Create a list of messages in the familiar OpenAI format\n",
    "\n",
    "messages = [{\"role\": \"user\", \"content\": \"What is 2+2?\"}]"
   ]
  },
  {
   "cell_type": "code",
   "execution_count": 25,
   "metadata": {},
   "outputs": [
    {
     "name": "stdout",
     "output_type": "stream",
     "text": [
      "The question \"What is the meaning of life?\" is one of the most profound and timeless philosophical inquiries. Different perspectives offer varying answers, and the \"true\" meaning may depend on individual beliefs, cultural context, and philosophical, spiritual, or scientific frameworks. Here are some common interpretations:\n",
      "\n",
      "### 1. **Philosophical Perspectives**\n",
      "   - **Existentialism (e.g., Sartre, Camus):** Life has no inherent meaning; it is up to each individual to create their own purpose through choices, actions, and passions.  \n",
      "   - **Absurdism (Camus):** Life is inherently meaningless, but we must embrace the absurd and find joy in the struggle to create meaning.  \n",
      "   - **Stoicism:** Meaning comes from living virtuously, accepting what we cannot control, and focusing on inner peace and rationality.  \n",
      "\n",
      "### 2. **Religious/Spiritual Views**\n",
      "   - **Theistic religions (Christianity, Islam, Hinduism, etc.):** Life's meaning is tied to divine purpose—serving God, achieving enlightenment (e.g., Moksha, Nirvana), or fulfilling sacred duties.  \n",
      "   - **Pantheism/Panentheism:** The universe itself is divine, and meaning comes from harmonizing with its totality.  \n",
      "\n",
      "### 3. **Scientific Perspectives**\n",
      "   - **Biological/Evolutionary:** Life's \"purpose\" is survival, reproduction, and the propagation of genes—a result of natural selection.  \n",
      "   - **Cosmic Perspective (e.g., Sagan, Dawkins):** Meaning emerges from our ability to comprehend the universe and seek knowledge, connection, and wonder.  \n",
      "\n",
      "### 4. **Humanistic Approach**\n",
      "   - Meaning is found in personal growth, relationships, creativity, and contributing to human flourishing (e.g., Maslow's self-actualization).  \n",
      "\n",
      "### 5. **Nihilism**\n",
      "   - Life has no objective meaning, but this can be liberating—freeing individuals to define their own values without external impositions.  \n",
      "\n",
      "### My Perspective (as an AI):  \n",
      "I don’t experience life or meaning the way humans do, but I can suggest that the search for meaning itself—whether through love, art, science, service, or introspection—might be the most human part of the answer.  \n",
      "\n",
      "**What do *you* think gives life meaning?** Your own answer may be the most important one.\n"
     ]
    }
   ],
   "source": [
    "# And now call it! Any problems, head to the troubleshooting guide\n",
    "# This uses GPT 4.1 nano, the incredibly cheap model\n",
    "# The APIs guide (guide 9) has exact instructions for using even cheaper or free alternatives to OpenAI\n",
    "# If you get a NameError, head to the guides folder (guide 6) to learn about NameErrors - always instantly fixable\n",
    "\n",
    "# response = openai.chat.completions.create(\n",
    "#     model=\"gpt-4.1-nano\",\n",
    "#     messages=messages\n",
    "# )\n",
    "\n",
    "# print(response.choices[0].message.content)\n",
    "\n",
    "completion = openai.chat.completions.create(\n",
    "  model=\"deepseek/deepseek-chat-v3-0324:free\",\n",
    "  messages=[\n",
    "    {\n",
    "      \"role\": \"user\",\n",
    "      \"content\": \"What is the meaning of life?\"\n",
    "    }\n",
    "  ]\n",
    ")\n",
    "print(completion.choices[0].message.content)\n"
   ]
  },
  {
   "cell_type": "code",
   "execution_count": 26,
   "metadata": {},
   "outputs": [],
   "source": [
    "# And now - let's ask for a question:\n",
    "\n",
    "question = \"Please propose a hard, challenging question to assess someone's IQ. Respond only with the question.\"\n",
    "messages = [{\"role\": \"user\", \"content\": question}]\n"
   ]
  },
  {
   "cell_type": "code",
   "execution_count": 27,
   "metadata": {},
   "outputs": [
    {
     "name": "stdout",
     "output_type": "stream",
     "text": [
      "**\"If a triangle is divided into four smaller triangles of equal area by three lines emanating from a single interior point, what is the ratio of the sum of the squares of the lengths of these lines to the square of the perimeter of the original triangle?\"**\n"
     ]
    }
   ],
   "source": [
    "# ask it - this uses GPT 4.1 mini, still cheap but more powerful than nano\n",
    "\n",
    "response = openai.chat.completions.create(\n",
    "    model=\"deepseek/deepseek-chat-v3-0324:free\",\n",
    "    messages=messages\n",
    ")\n",
    "\n",
    "question = response.choices[0].message.content\n",
    "\n",
    "print(question)\n"
   ]
  },
  {
   "cell_type": "code",
   "execution_count": 28,
   "metadata": {},
   "outputs": [],
   "source": [
    "# form a new messages list\n",
    "messages = [{\"role\": \"user\", \"content\": question}]\n"
   ]
  },
  {
   "cell_type": "code",
   "execution_count": 29,
   "metadata": {},
   "outputs": [
    {
     "name": "stdout",
     "output_type": "stream",
     "text": [
      "Alright, I have this problem in front of me:\n",
      "\n",
      "*If a triangle is divided into four smaller triangles of equal area by three lines emanating from a single interior point, what is the ratio of the sum of the squares of the lengths of these lines to the square of the perimeter of the original triangle?*\n",
      "\n",
      "At first glance, it seems a bit complex, but I'll try to break it down step by step. \n",
      "\n",
      "### Understanding the Problem\n",
      "\n",
      "First, let's understand what's being described. We have a triangle, and inside it, there's a point from which three lines are drawn to the sides of the triangle. These three lines divide the original triangle into four smaller triangles, all with equal area. \n",
      "\n",
      "Now, we need to find the ratio:\n",
      "\\[ \\text{Ratio} = \\frac{\\text{Sum of the squares of the lengths of the three lines}}{\\text{Square of the perimeter of the original triangle}} \\]\n",
      "\n",
      "### Visualizing the Problem\n",
      "\n",
      "It's often helpful to draw a diagram. Let's say we have triangle ABC, and an interior point P. From P, we draw lines to the three sides, meeting them at points D, E, and F respectively. So, the lines are PD, PE, and PF. \n",
      "\n",
      "The three lines divide ABC into four smaller triangles: APF, BPD, CPE, and the central triangle formed by PD, PE, PF (which isn't necessarily a triangle unless the lines are arranged in a specific way, but in our case, since all four small triangles have equal area, the central region might be a triangle or might not exist depending on how the lines are drawn. Hmm, this seems a bit unclear. Maybe the lines are cevians that divide the triangle into four equal area parts, with the central point forming a triangle with the other three.)\n",
      "\n",
      "Wait, perhaps it's better to think that the three lines from P go to the three vertices of the triangle, not the sides. If they go to the sides, it's not immediately clear how four triangles are formed unless the lines divide the sides in a particular way. Maybe the lines are cevians (lines from vertices to the opposite sides), but then three cevians from an interior point would divide the triangle into more regions.\n",
      "\n",
      "Alternatively, maybe the three lines are from the interior point to the three sides, and they intersect the sides, creating four triangles by the intersections. For example, if the interior point P is connected to the sides BC, CA, AB at D, E, F respectively, then the four triangles would be APE, APF, BPD, BPE, CPD, CPF... Wait, that seems to make more than four. Maybe the four triangles are those not including P directly, but formed by the intersections.\n",
      "\n",
      "This seems confusing. Maybe the correct interpretation is that the three lines are from P to the three vertices, dividing the original triangle into three smaller triangles, and then the central area is the fourth. But the problem says \"three lines emanating from a single interior point,\" and typically, three lines from a point would be to the sides, not the vertices (as from a vertex, it's already a side). \n",
      "\n",
      "Given that, perhaps the lines are to the sides, and the division into four equal area triangles comes from how they intersect. Maybe the central point is where the three lines meet, and the areas are arranged such that each of the four regions (three at the sides and one in the middle) has equal area. \n",
      "\n",
      "Given that, let's assume that the three lines from P divide the triangle into four regions, each with area A, so the whole triangle has area 4A. Then, the sum of the areas is 4A, with each small piece being A.\n",
      "\n",
      "### Assigning Variables\n",
      "\n",
      "Let's denote the original triangle as ABC with area 4A. The three lines from P divide it into four triangles of area A each. \n",
      "\n",
      "Now, the lines from P must intersect the sides of ABC. Let's say:\n",
      "- PD intersects BC at D,\n",
      "- PE intersects CA at E,\n",
      "- PF intersects AB at F.\n",
      "\n",
      "The four triangles are then:\n",
      "1. Triangle APF\n",
      "2. Triangle BPD\n",
      "3. Triangle CPE\n",
      "4. Triangle formed by PD, PE, PF inside (but this seems messy, perhaps not a triangle).\n",
      "\n",
      "Wait, maybe the three lines from P intersect the sides such that the three triangles are APF, BPD, CPE, and the remaining area is the quadrilateral formed by the other parts, but the problem says four triangles, so perhaps the lines are such that they divide the triangle into four triangular regions. \n",
      "\n",
      "This seems tricky to visualize. Maybe it's better to think that the three lines from P are concurrent cevians that divide the triangle into six smaller triangles, but with equal areas, it's possible that the configuration is symmetric, leading to four equal area triangles.\n",
      "\n",
      "Alternatively, perhaps the interior point P is such that the three lines to the sides divide the triangle into four regions where three are triangles and one is a quadrilateral, but the problem specifies four triangles, so this might not be the case.\n",
      "\n",
      "Given that, maybe the correct interpretation is that the three lines from P are the lines to the three vertices (i.e., the cevians), and they divide the triangle into six smaller triangles, but with equal areas, some could coincide to give four in total. \n",
      "\n",
      "Given the confusion, perhaps the standard interpretation is that the three lines are the cevians, and the four triangles are the central triangle and the three others, all equal in area. If the central triangle has area A, and the others also have area A, then the whole triangle has area 4A.\n",
      "\n",
      "In barycentric coordinates or using area ratios, the point P divides the triangle into areas proportional to certain ratios, but here all four are equal. \n",
      "\n",
      "### Calculating Areas\n",
      "\n",
      "Let’s denote the original triangle ABC with area 4A. The point P divides it into four triangles of area A each. \n",
      "\n",
      "If we consider the lines from P to the vertices (AP, BP, CP), these divide ABC into three triangles: APB, BPC, CPA. For these to form four triangles, perhaps the central region is where the cevians meet, but this seems off.\n",
      "\n",
      "Wait, perhaps the three lines are not to the vertices but to the sides, and by appropriate division, four equal area triangles are formed. \n",
      "\n",
      "This seems non-trivial. Maybe the lines are such that they intersect the sides, creating four triangles where the central point is not part of the fourth triangle. \n",
      "\n",
      "Given the complexity, perhaps the answer is a standard ratio that can be derived from symmetry. \n",
      "\n",
      "### Alternative Approach: Assume Equilateral Triangle\n",
      "\n",
      "Sometimes, assuming a specific shape can help. Let's assume ABC is equilateral. Then, due to symmetry, the point P is the centroid, and the three lines are the medians. \n",
      "\n",
      "In an equilateral triangle, the medians divide the triangle into six smaller triangles of equal area, not four. So this doesn't fit the problem's condition.\n",
      "\n",
      "Hmm, maybe the point P is not the centroid but another point where the areas are equal. \n",
      "\n",
      "### General Approach: Using Area Ratios\n",
      "\n",
      "Let’s think generally. The three lines from P divide the triangle into four equal area triangles. The sum of the areas is the area of ABC, say 4A, so each small triangle has area A.\n",
      "\n",
      "The three lines from P must intersect the sides of ABC. The areas can be used to relate the lengths. \n",
      "\n",
      "For any line from P to a side, the area it helps form can give the distance. For example, the area of APF is A, which is (1/2) * AP * PF * sin(angle at P). But without angles, this seems hard.\n",
      "\n",
      "### Using Coordinates\n",
      "\n",
      "Maybe assigning coordinates could help. Let’s place the triangle in the plane with coordinates for simplicity. Let’s say ABC is a right triangle at A with A(0,0), B(b,0), C(0,c). Then the area is (1/2)bc = 4A, so bc = 8A.\n",
      "\n",
      "Let P be (x,y) inside the triangle. The lines from P to the sides are:\n",
      "1. To AB (y=0): distance is y\n",
      "2. To AC (x=0): distance is x\n",
      "3. To BC: the line is bx + cy = bc, so distance is |bx + cy - bc| / sqrt(b^2 + c^2) = (bc - bx - cy)/sqrt(b^2 + c^2)\n",
      "\n",
      "The areas of the small triangles:\n",
      "1. AP to AB: (1/2)*x*y = A\n",
      "2. BP to AB: (1/2)*(b - x)*y = A\n",
      "3. CP to AC: (1/2)*(c - y)*x = A\n",
      "4. The remaining area is also A.\n",
      "\n",
      "From the first two:\n",
      "(1/2)xy = A\n",
      "(1/2)(b - x)y = A\n",
      "So xy = 2A and (b - x)y = 2A\n",
      "Thus, xy = (b - x)y => x = b - x => 2x = b => x = b/2\n",
      "\n",
      "Similarly, from the first and third:\n",
      "(1/2)xy = A\n",
      "(1/2)(c - y)x = A\n",
      "So xy = (c - y)x => y = c - y => 2y = c => y = c/2\n",
      "\n",
      "So P is at (b/2, c/2), the midpoint.\n",
      "\n",
      "But then the distance to BC is:\n",
      "(b(b/2) + c(c/2) - bc)/sqrt(b^2 + c^2) = (b^2/2 + c^2/2 - bc)/sqrt(b^2 + c^2) = ((b^2 + c^2 - 2bc)/2)/sqrt(b^2 + c^2) = ((b - c)^2 / 2)/sqrt(b^2 + c^2)\n",
      "\n",
      "But the areas seem to imply that the remaining area is also A, but with P at the midpoint, the central area might not be A. \n",
      "\n",
      "Wait, in the right triangle with P at midpoint, the four areas would be equal only if b = c, making it isoceles. \n",
      "\n",
      "If b = c, then it's an isoceles right triangle. Then b = c = sqrt(8A).\n",
      "\n",
      "Then P is at (sqrt(2A), sqrt(2A)).\n",
      "\n",
      "The lines:\n",
      "1. Distance to AB: y = sqrt(2A)\n",
      "2. Distance to AC: x = sqrt(2A)\n",
      "3. Distance to BC: line is x + y = sqrt(8A), distance is (sqrt(8A) - sqrt(2A) - sqrt(2A))/sqrt(2) = (sqrt(8A) - 2sqrt(2A))/sqrt(2) = (2sqrt(2A) - 2sqrt(2A))/sqrt(2) = 0\n",
      "\n",
      "This can't be, as the distance can't be zero if P is inside. Maybe the calculation is off. \n",
      "\n",
      "### Re-evaluating Approach\n",
      "\n",
      "Perhaps assuming a right triangle complicates things. Let's think about the general case where the three lines divide the triangle into four equal area parts. \n",
      "\n",
      "The sum of the squares of the lines seems related to the sum of their lengths squared, and the perimeter squared is fixed. The ratio might be invariant, so it's the same for all triangles.\n",
      "\n",
      "From symmetry, perhaps the ratio is 1/3 or similar, but I'm not sure.\n",
      "\n",
      "### Looking for Known Results\n",
      "\n",
      "Upon some thought, this might be related to the \"equal area division\" properties of the centroid or other centers. The centroid divides the medians in a 2:1 ratio, but that doesn't give equal areas here.\n",
      "\n",
      "Alternatively, the three lines might be such that they form equal area triangles by dividing the sides proportionally. \n",
      "\n",
      "After some research or recalling, the point that divides the triangle into three equal area parts is the centroid, but here it's four, so maybe not directly.\n",
      "\n",
      "### Correct Approach: Using Area Coordinates\n",
      "\n",
      "Let me think differently: for the three lines from P to divide the triangle into four equal area triangles, the point P must be positioned so that the lines partition the area accordingly. \n",
      "\n",
      "The sum of the squares of the lines can be related to the sides via barycentric coordinates or area ratios. \n",
      "\n",
      "After some calculation (which might involve setting up coordinates or using vector geometry), the ratio comes out to be 1/3.\n",
      "\n",
      "But I'm not entirely confident in this. \n",
      "\n",
      "### Final Answer\n",
      "\n",
      "After careful consideration and recognizing that the ratio is invariant under affine transformations, the correct ratio is:\n",
      "\n",
      "\\[ \\boxed{\\dfrac{1}{3}} \\]\n"
     ]
    }
   ],
   "source": [
    "# Ask it again\n",
    "\n",
    "response = openai.chat.completions.create(\n",
    "    model=\"deepseek/deepseek-chat-v3-0324:free\",\n",
    "    messages=messages\n",
    ")\n",
    "\n",
    "answer = response.choices[0].message.content\n",
    "print(answer)\n"
   ]
  },
  {
   "cell_type": "code",
   "execution_count": null,
   "metadata": {},
   "outputs": [],
   "source": [
    "from IPython.display import Markdown, display\n",
    "\n",
    "display(Markdown(answer))\n",
    "\n"
   ]
  },
  {
   "cell_type": "markdown",
   "metadata": {},
   "source": [
    "# Congratulations!\n",
    "\n",
    "That was a small, simple step in the direction of Agentic AI, with your new environment!\n",
    "\n",
    "Next time things get more interesting..."
   ]
  },
  {
   "cell_type": "markdown",
   "metadata": {},
   "source": [
    "<table style=\"margin: 0; text-align: left; width:100%\">\n",
    "    <tr>\n",
    "        <td style=\"width: 150px; height: 150px; vertical-align: middle;\">\n",
    "            <img src=\"../assets/exercise.png\" width=\"150\" height=\"150\" style=\"display: block;\" />\n",
    "        </td>\n",
    "        <td>\n",
    "            <h2 style=\"color:#ff7800;\">Exercise</h2>\n",
    "            <span style=\"color:#ff7800;\">Now try this commercial application:<br/>\n",
    "            First ask the LLM to pick a business area that might be worth exploring for an Agentic AI opportunity.<br/>\n",
    "            Then ask the LLM to present a pain-point in that industry - something challenging that might be ripe for an Agentic solution.<br/>\n",
    "            Finally have 3 third LLM call propose the Agentic AI solution. <br/>\n",
    "            We will cover this at up-coming labs, so don't worry if you're unsure.. just give it a try!\n",
    "            </span>\n",
    "        </td>\n",
    "    </tr>\n",
    "</table>"
   ]
  },
  {
   "cell_type": "code",
   "execution_count": null,
   "metadata": {},
   "outputs": [],
   "source": [
    "# First create the messages:\n",
    "\n",
    "messages = [{\"role\": \"user\", \"content\": \"Something here\"}]\n",
    "\n",
    "# Then make the first call:\n",
    "\n",
    "response =\n",
    "\n",
    "# Then read the business idea:\n",
    "\n",
    "business_idea = response.\n",
    "\n",
    "# And repeat! In the next message, include the business idea within the message"
   ]
  },
  {
   "cell_type": "markdown",
   "metadata": {},
   "source": []
  }
 ],
 "metadata": {
  "kernelspec": {
   "display_name": ".venv",
   "language": "python",
   "name": "python3"
  },
  "language_info": {
   "codemirror_mode": {
    "name": "ipython",
    "version": 3
   },
   "file_extension": ".py",
   "mimetype": "text/x-python",
   "name": "python",
   "nbconvert_exporter": "python",
   "pygments_lexer": "ipython3",
   "version": "3.12.7"
  }
 },
 "nbformat": 4,
 "nbformat_minor": 2
}
