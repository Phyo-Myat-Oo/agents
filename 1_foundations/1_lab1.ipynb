{
 "cells": [
  {
   "cell_type": "markdown",
   "metadata": {},
   "source": [
    "# Welcome to the start of your adventure in Agentic AI"
   ]
  },
  {
   "cell_type": "markdown",
   "metadata": {},
   "source": [
    "<table style=\"margin: 0; text-align: left; width:100%\">\n",
    "    <tr>\n",
    "        <td style=\"width: 150px; height: 150px; vertical-align: middle;\">\n",
    "            <img src=\"../assets/stop.png\" width=\"150\" height=\"150\" style=\"display: block;\" />\n",
    "        </td>\n",
    "        <td>\n",
    "            <h2 style=\"color:#ff7800;\">Are you ready for action??</h2>\n",
    "            <span style=\"color:#ff7800;\">Have you completed all the setup steps in the <a href=\"../setup/\">setup</a> folder?<br/>\n",
    "            Have you read the <a href=\"../README.md\">README</a>? Many common questions are answered here!<br/>\n",
    "            Have you checked out the guides in the <a href=\"../guides/01_intro.ipynb\">guides</a> folder?<br/>\n",
    "            Well in that case, you're ready!!\n",
    "            </span>\n",
    "        </td>\n",
    "    </tr>\n",
    "</table>"
   ]
  },
  {
   "cell_type": "markdown",
   "metadata": {},
   "source": [
    "<table style=\"margin: 0; text-align: left; width:100%\">\n",
    "    <tr>\n",
    "        <td style=\"width: 150px; height: 150px; vertical-align: middle;\">\n",
    "            <img src=\"../assets/tools.png\" width=\"150\" height=\"150\" style=\"display: block;\" />\n",
    "        </td>\n",
    "        <td>\n",
    "            <h2 style=\"color:#00bfff;\">This code is a live resource - keep an eye out for my updates</h2>\n",
    "            <span style=\"color:#00bfff;\">I push updates regularly. As people ask questions or have problems, I add more examples and improve explanations. As a result, the code below might not be identical to the videos, as I've added more steps and better comments. Consider this like an interactive book that accompanies the lectures.<br/><br/>\n",
    "            I try to send emails regularly with important updates related to the course. You can find this in the 'Announcements' section of Udemy in the left sidebar. You can also choose to receive my emails via your Notification Settings in Udemy. I'm respectful of your inbox and always try to add value with my emails!\n",
    "            </span>\n",
    "        </td>\n",
    "    </tr>\n",
    "</table>"
   ]
  },
  {
   "cell_type": "markdown",
   "metadata": {},
   "source": [
    "### And please do remember to contact me if I can help\n",
    "\n",
    "And I love to connect: https://www.linkedin.com/in/eddonner/\n",
    "\n",
    "\n",
    "### New to Notebooks like this one? Head over to the guides folder!\n",
    "\n",
    "Just to check you've already added the Python and Jupyter extensions to Cursor, if not already installed:\n",
    "- Open extensions (View >> extensions)\n",
    "- Search for python, and when the results show, click on the ms-python one, and Install it if not already installed\n",
    "- Search for jupyter, and when the results show, click on the Microsoft one, and Install it if not already installed  \n",
    "Then View >> Explorer to bring back the File Explorer.\n",
    "\n",
    "And then:\n",
    "1. Click where it says \"Select Kernel\" near the top right, and select the option called `.venv (Python 3.12.9)` or similar, which should be the first choice or the most prominent choice. You may need to choose \"Python Environments\" first.\n",
    "2. Click in each \"cell\" below, starting with the cell immediately below this text, and press Shift+Enter to run\n",
    "3. Enjoy!\n",
    "\n",
    "After you click \"Select Kernel\", if there is no option like `.venv (Python 3.12.9)` then please do the following:  \n",
    "1. On Mac: From the Cursor menu, choose Settings >> VS Code Settings (NOTE: be sure to select `VSCode Settings` not `Cursor Settings`);  \n",
    "On Windows PC: From the File menu, choose Preferences >> VS Code Settings(NOTE: be sure to select `VSCode Settings` not `Cursor Settings`)  \n",
    "2. In the Settings search bar, type \"venv\"  \n",
    "3. In the field \"Path to folder with a list of Virtual Environments\" put the path to the project root, like C:\\Users\\username\\projects\\agents (on a Windows PC) or /Users/username/projects/agents (on Mac or Linux).  \n",
    "And then try again.\n",
    "\n",
    "Having problems with missing Python versions in that list? Have you ever used Anaconda before? It might be interferring. Quit Cursor, bring up a new command line, and make sure that your Anaconda environment is deactivated:    \n",
    "`conda deactivate`  \n",
    "And if you still have any problems with conda and python versions, it's possible that you will need to run this too:  \n",
    "`conda config --set auto_activate_base false`  \n",
    "and then from within the Agents directory, you should be able to run `uv python list` and see the Python 3.12 version."
   ]
  },
  {
   "cell_type": "code",
   "execution_count": 1,
   "metadata": {},
   "outputs": [],
   "source": [
    "# First let's do an import. If you get an Import Error, double check that your Kernel is correct..\n",
    "\n",
    "from dotenv import load_dotenv\n"
   ]
  },
  {
   "cell_type": "code",
   "execution_count": null,
   "metadata": {},
   "outputs": [],
   "source": [
    "# Next it's time to load the API keys into environment variables\n",
    "# If this returns false, see the next cell!\n",
    "\n",
    "load_dotenv(override=True)"
   ]
  },
  {
   "cell_type": "markdown",
   "metadata": {},
   "source": [
    "### Wait, did that just output `False`??\n",
    "\n",
    "If so, the most common reason is that you didn't save your `.env` file after adding the key! Be sure to have saved.\n",
    "\n",
    "Also, make sure the `.env` file is named precisely `.env` and is in the project root directory (`agents`)\n",
    "\n",
    "By the way, your `.env` file should have a stop symbol next to it in Cursor on the left, and that's actually a good thing: that's Cursor saying to you, \"hey, I realize this is a file filled with secret information, and I'm not going to send it to an external AI to suggest changes, because your keys should not be shown to anyone else.\""
   ]
  },
  {
   "cell_type": "markdown",
   "metadata": {},
   "source": [
    "<table style=\"margin: 0; text-align: left; width:100%\">\n",
    "    <tr>\n",
    "        <td style=\"width: 150px; height: 150px; vertical-align: middle;\">\n",
    "            <img src=\"../assets/stop.png\" width=\"150\" height=\"150\" style=\"display: block;\" />\n",
    "        </td>\n",
    "        <td>\n",
    "            <h2 style=\"color:#ff7800;\">Final reminders</h2>\n",
    "            <span style=\"color:#ff7800;\">1. If you're not confident about Environment Variables or Web Endpoints / APIs, please read Topics 3 and 5 in this <a href=\"../guides/04_technical_foundations.ipynb\">technical foundations guide</a>.<br/>\n",
    "            2. If you want to use AIs other than OpenAI, like Gemini, DeepSeek or Ollama (free), please see the first section in this <a href=\"../guides/09_ai_apis_and_ollama.ipynb\">AI APIs guide</a>.<br/>\n",
    "            3. If you ever get a Name Error in Python, you can always fix it immediately; see the last section of this <a href=\"../guides/06_python_foundations.ipynb\">Python Foundations guide</a> and follow both tutorials and exercises.<br/>\n",
    "            </span>\n",
    "        </td>\n",
    "    </tr>\n",
    "</table>"
   ]
  },
  {
   "cell_type": "code",
   "execution_count": 2,
   "metadata": {},
   "outputs": [
    {
     "name": "stdout",
     "output_type": "stream",
     "text": [
      "OpenAI API Key exists and begins sk-or-v1\n"
     ]
    }
   ],
   "source": [
    "# Check the key - if you're not using OpenAI, check whichever key you're using! Ollama doesn't need a key.\n",
    "\n",
    "import os\n",
    "openai_api_key = os.getenv('OPENROUTER_API_KEY')\n",
    "\n",
    "if openai_api_key:\n",
    "    print(f\"OpenAI API Key exists and begins {openai_api_key[:8]}\")\n",
    "else:\n",
    "    print(\"OpenAI API Key not set - please head to the troubleshooting guide in the setup folder\")\n",
    "    \n"
   ]
  },
  {
   "cell_type": "code",
   "execution_count": 4,
   "metadata": {},
   "outputs": [],
   "source": [
    "# And now - the all important import statement\n",
    "# If you get an import error - head over to troubleshooting in the Setup folder\n",
    "\n",
    "from openai import OpenAI"
   ]
  },
  {
   "cell_type": "code",
   "execution_count": null,
   "metadata": {},
   "outputs": [],
   "source": []
  },
  {
   "cell_type": "code",
   "execution_count": 5,
   "metadata": {},
   "outputs": [],
   "source": [
    "# And now we'll create an instance of the OpenAI class\n",
    "# If you're not sure what it means to create an instance of a class - head over to the guides folder (guide 6)!\n",
    "# If you get a NameError - head over to the guides folder (guide 6)to learn about NameErrors - always instantly fixable\n",
    "# If you're not using OpenAI, you just need to slightly modify this - precise instructions are in the AI APIs guide (guide 9)\n",
    "\n",
    "# openai = OpenAI()\n",
    "openai = OpenAI(\n",
    "  base_url=\"https://openrouter.ai/api/v1\",\n",
    "  api_key=os.getenv(\"OPENROUTER_API_KEY\")\n",
    ")\n"
   ]
  },
  {
   "cell_type": "code",
   "execution_count": 6,
   "metadata": {},
   "outputs": [],
   "source": [
    "# Create a list of messages in the familiar OpenAI format\n",
    "\n",
    "messages = [{\"role\": \"user\", \"content\": \"What is 2+2?\"}]"
   ]
  },
  {
   "cell_type": "code",
   "execution_count": 7,
   "metadata": {},
   "outputs": [
    {
     "name": "stdout",
     "output_type": "stream",
     "text": [
      "The question \"What is the meaning of life?\" is one of the most profound and debated questions in philosophy, religion, science, and personal introspection. There is no single, universally accepted answer, but here are some perspectives:\n",
      "\n",
      "### 1. **Philosophical Perspectives**  \n",
      "   - **Existentialism**: Life has no inherent meaning; individuals must create their own purpose through choices and actions (e.g., Sartre, Camus).  \n",
      "   - **Absurdism**: Life is inherently meaningless, but we must rebel against this absurdity by embracing passion and freedom (Camus).  \n",
      "   - **Stoicism**: Meaning is found in virtue, resilience, and alignment with nature.  \n",
      "   - **Nihilism**: Life has no objective meaning, purpose, or value.  \n",
      "\n",
      "### 2. **Religious/Spiritual Perspectives**  \n",
      "   - **Theistic Views**: Life’s purpose is tied to divine will—serving God (Christianity), attaining liberation (Hinduism, Buddhism), or submitting to Allah (Islam).  \n",
      "   - **Buddhism**: Meaning comes from ending suffering (dukkha) through enlightenment (nirvana).  \n",
      "   - **Eastern Philosophies**: Harmony with the universe (Taoism) or fulfilling one's duty (dharma in Hinduism).  \n",
      "\n",
      "### 3. **Scientific Perspective**  \n",
      "   - **Biological**: Life's \"purpose\" is survival, reproduction, and passing on genes (Darwinism).  \n",
      "   - **Cosmic**: From a physics standpoint, life may be a rare but natural outcome of universal laws, with no inherent meaning.  \n",
      "\n",
      "### 4. **Personal/Subjective Meaning**  \n",
      "   - Many find purpose in relationships, creativity, knowledge, happiness, or helping others. Viktor Frankl’s *logotherapy* argues meaning arises from striving toward goals or enduring suffering with dignity.  \n",
      "\n",
      "### 5. **Pop Culture & Humor**  \n",
      "   - *Monty Python’s Answer*: \"42\" (highlighting the absurdity of the question).  \n",
      "   - *Douglas Adams*: The quest for meaning may be more important than the answer.  \n",
      "\n",
      "### **A Practical Takeaway**:  \n",
      "While the universe may not hand us a predefined meaning, we have the freedom—and perhaps the responsibility—to create our own through love, work, curiosity, and connection.  \n",
      "\n",
      "Would you like to explore a specific perspective deeper?\n"
     ]
    }
   ],
   "source": [
    "# And now call it! Any problems, head to the troubleshooting guide\n",
    "# This uses GPT 4.1 nano, the incredibly cheap model\n",
    "# The APIs guide (guide 9) has exact instructions for using even cheaper or free alternatives to OpenAI\n",
    "# If you get a NameError, head to the guides folder (guide 6) to learn about NameErrors - always instantly fixable\n",
    "\n",
    "# response = openai.chat.completions.create(\n",
    "#     model=\"gpt-4.1-nano\",\n",
    "#     messages=messages\n",
    "# )\n",
    "\n",
    "# print(response.choices[0].message.content)\n",
    "\n",
    "completion = openai.chat.completions.create(\n",
    "  model=\"deepseek/deepseek-chat-v3-0324:free\",\n",
    "  messages=[\n",
    "    {\n",
    "      \"role\": \"user\",\n",
    "      \"content\": \"What is the meaning of life?\"\n",
    "    }\n",
    "  ]\n",
    ")\n",
    "print(completion.choices[0].message.content)\n"
   ]
  },
  {
   "cell_type": "code",
   "execution_count": 8,
   "metadata": {},
   "outputs": [],
   "source": [
    "# And now - let's ask for a question:\n",
    "\n",
    "question = \"Please propose a hard, challenging question to assess someone's IQ. Respond only with the question.\"\n",
    "messages = [{\"role\": \"user\", \"content\": question}]\n"
   ]
  },
  {
   "cell_type": "code",
   "execution_count": 9,
   "metadata": {},
   "outputs": [
    {
     "name": "stdout",
     "output_type": "stream",
     "text": [
      "If a train leaves station A at 60 mph and another leaves station B at 40 mph towards each other 300 miles apart, and a bird starts at station A flying back and forth between them at 100 mph until they meet, what is the total distance the bird travels?\n"
     ]
    }
   ],
   "source": [
    "# ask it - this uses GPT 4.1 mini, still cheap but more powerful than nano\n",
    "\n",
    "response = openai.chat.completions.create(\n",
    "    model=\"deepseek/deepseek-chat-v3-0324:free\",\n",
    "    messages=messages\n",
    ")\n",
    "\n",
    "question = response.choices[0].message.content\n",
    "\n",
    "print(question)\n"
   ]
  },
  {
   "cell_type": "code",
   "execution_count": 10,
   "metadata": {},
   "outputs": [],
   "source": [
    "# form a new messages list\n",
    "messages = [{\"role\": \"user\", \"content\": question}]\n"
   ]
  },
  {
   "cell_type": "code",
   "execution_count": 11,
   "metadata": {},
   "outputs": [
    {
     "name": "stdout",
     "output_type": "stream",
     "text": [
      "Alright, let's tackle this problem step by step. It's a classic \"two trains and a bird\" problem, where two objects are moving towards each other, and a bird is flying back and forth between them until they meet. The question asks for the total distance the bird travels during this time.\n",
      "\n",
      "### Understanding the Problem\n",
      "\n",
      "We have the following information:\n",
      "\n",
      "1. **Train from Station A:**\n",
      "   - Speed: 60 mph (miles per hour)\n",
      "   - Direction: Towards Station B\n",
      "\n",
      "2. **Train from Station B:**\n",
      "   - Speed: 40 mph\n",
      "   - Direction: Towards Station A\n",
      "\n",
      "3. **Initial Distance between Stations A and B:** 300 miles\n",
      "\n",
      "4. **Bird:**\n",
      "   - Starts at Station A\n",
      "   - Speed: 100 mph\n",
      "   - Behavior: Flies back and forth between the two trains until they meet.\n",
      "\n",
      "**Question:** What is the total distance the bird travels before the trains meet?\n",
      "\n",
      "### Approach to Solve the Problem\n",
      "\n",
      "At first glance, one might think to calculate each leg of the bird's journey—how far it flies from A to B, then back to A, then to B again, and so on, until the trains meet. However, this would involve an infinite series of smaller and smaller distances, which can be complex to sum up directly.\n",
      "\n",
      "A more straightforward approach is to calculate the time it takes for the two trains to meet and then use that time to determine how far the bird flies, given its constant speed.\n",
      "\n",
      "### Step 1: Calculate the Time Until Trains Meet\n",
      "\n",
      "The two trains are moving towards each other, so their relative speed is the sum of their individual speeds.\n",
      "\n",
      "- Speed of Train A: 60 mph\n",
      "- Speed of Train B: 40 mph\n",
      "- Relative speed (towards each other): 60 + 40 = 100 mph\n",
      "\n",
      "The initial distance between them is 300 miles.\n",
      "\n",
      "Time = Distance / Speed\n",
      "\n",
      "Time until they meet = 300 miles / 100 mph = 3 hours\n",
      "\n",
      "So, the trains will meet after 3 hours.\n",
      "\n",
      "### Step 2: Calculate the Bird's Total Distance Traveled\n",
      "\n",
      "The bird is flying continuously back and forth at a constant speed of 100 mph for the entire time until the trains meet.\n",
      "\n",
      "Since we've determined that the trains meet after 3 hours, the bird flies for 3 hours.\n",
      "\n",
      "Distance = Speed × Time\n",
      "\n",
      "Bird's distance = 100 mph × 3 hours = 300 miles\n",
      "\n",
      "### Verification of the Approach\n",
      "\n",
      "To ensure this isn't a coincidence, let's think about why this method works without summing the infinite series.\n",
      "\n",
      "The bird's flight consists of multiple trips between the two trains, with each trip covering less distance as the trains get closer. However, no matter how the bird's flight path is divided, the total time it spends flying is the time until the trains meet. Since its speed is constant, the total distance is simply speed multiplied by that total time.\n",
      "\n",
      "This is much simpler than trying to sum an infinite series, which would look something like:\n",
      "\n",
      "1. First trip: bird flies from A to B (distance decreases as trains move)\n",
      "2. Second trip: bird flies back from B to A\n",
      "3. And so on...\n",
      "\n",
      "Calculating each segment would involve:\n",
      "\n",
      "- Distance for first trip: initial distance / (relative speed of bird and approaching train)\n",
      "- Time for first trip: that distance / bird's speed\n",
      "- Then the remaining distance, and so on.\n",
      "\n",
      "While mathematically solvable (it's an infinite geometric series), it's unnecessarily complex when we can find the total time first.\n",
      "\n",
      "### Conclusion\n",
      "\n",
      "After carefully considering the problem, the most efficient way to find the total distance the bird travels is to first determine how long it takes for the two trains to meet and then calculate the distance the bird covers in that time at its constant speed.\n",
      "\n",
      "**Final Answer:** The bird travels a total of **300 miles**.\n"
     ]
    }
   ],
   "source": [
    "# Ask it again\n",
    "\n",
    "response = openai.chat.completions.create(\n",
    "    model=\"deepseek/deepseek-chat-v3-0324:free\",\n",
    "    messages=messages\n",
    ")\n",
    "\n",
    "answer = response.choices[0].message.content\n",
    "print(answer)\n"
   ]
  },
  {
   "cell_type": "code",
   "execution_count": 12,
   "metadata": {},
   "outputs": [
    {
     "data": {
      "text/markdown": [
       "Alright, let's tackle this problem step by step. It's a classic \"two trains and a bird\" problem, where two objects are moving towards each other, and a bird is flying back and forth between them until they meet. The question asks for the total distance the bird travels during this time.\n",
       "\n",
       "### Understanding the Problem\n",
       "\n",
       "We have the following information:\n",
       "\n",
       "1. **Train from Station A:**\n",
       "   - Speed: 60 mph (miles per hour)\n",
       "   - Direction: Towards Station B\n",
       "\n",
       "2. **Train from Station B:**\n",
       "   - Speed: 40 mph\n",
       "   - Direction: Towards Station A\n",
       "\n",
       "3. **Initial Distance between Stations A and B:** 300 miles\n",
       "\n",
       "4. **Bird:**\n",
       "   - Starts at Station A\n",
       "   - Speed: 100 mph\n",
       "   - Behavior: Flies back and forth between the two trains until they meet.\n",
       "\n",
       "**Question:** What is the total distance the bird travels before the trains meet?\n",
       "\n",
       "### Approach to Solve the Problem\n",
       "\n",
       "At first glance, one might think to calculate each leg of the bird's journey—how far it flies from A to B, then back to A, then to B again, and so on, until the trains meet. However, this would involve an infinite series of smaller and smaller distances, which can be complex to sum up directly.\n",
       "\n",
       "A more straightforward approach is to calculate the time it takes for the two trains to meet and then use that time to determine how far the bird flies, given its constant speed.\n",
       "\n",
       "### Step 1: Calculate the Time Until Trains Meet\n",
       "\n",
       "The two trains are moving towards each other, so their relative speed is the sum of their individual speeds.\n",
       "\n",
       "- Speed of Train A: 60 mph\n",
       "- Speed of Train B: 40 mph\n",
       "- Relative speed (towards each other): 60 + 40 = 100 mph\n",
       "\n",
       "The initial distance between them is 300 miles.\n",
       "\n",
       "Time = Distance / Speed\n",
       "\n",
       "Time until they meet = 300 miles / 100 mph = 3 hours\n",
       "\n",
       "So, the trains will meet after 3 hours.\n",
       "\n",
       "### Step 2: Calculate the Bird's Total Distance Traveled\n",
       "\n",
       "The bird is flying continuously back and forth at a constant speed of 100 mph for the entire time until the trains meet.\n",
       "\n",
       "Since we've determined that the trains meet after 3 hours, the bird flies for 3 hours.\n",
       "\n",
       "Distance = Speed × Time\n",
       "\n",
       "Bird's distance = 100 mph × 3 hours = 300 miles\n",
       "\n",
       "### Verification of the Approach\n",
       "\n",
       "To ensure this isn't a coincidence, let's think about why this method works without summing the infinite series.\n",
       "\n",
       "The bird's flight consists of multiple trips between the two trains, with each trip covering less distance as the trains get closer. However, no matter how the bird's flight path is divided, the total time it spends flying is the time until the trains meet. Since its speed is constant, the total distance is simply speed multiplied by that total time.\n",
       "\n",
       "This is much simpler than trying to sum an infinite series, which would look something like:\n",
       "\n",
       "1. First trip: bird flies from A to B (distance decreases as trains move)\n",
       "2. Second trip: bird flies back from B to A\n",
       "3. And so on...\n",
       "\n",
       "Calculating each segment would involve:\n",
       "\n",
       "- Distance for first trip: initial distance / (relative speed of bird and approaching train)\n",
       "- Time for first trip: that distance / bird's speed\n",
       "- Then the remaining distance, and so on.\n",
       "\n",
       "While mathematically solvable (it's an infinite geometric series), it's unnecessarily complex when we can find the total time first.\n",
       "\n",
       "### Conclusion\n",
       "\n",
       "After carefully considering the problem, the most efficient way to find the total distance the bird travels is to first determine how long it takes for the two trains to meet and then calculate the distance the bird covers in that time at its constant speed.\n",
       "\n",
       "**Final Answer:** The bird travels a total of **300 miles**."
      ],
      "text/plain": [
       "<IPython.core.display.Markdown object>"
      ]
     },
     "metadata": {},
     "output_type": "display_data"
    }
   ],
   "source": [
    "from IPython.display import Markdown, display\n",
    "\n",
    "display(Markdown(answer))\n",
    "\n"
   ]
  },
  {
   "cell_type": "markdown",
   "metadata": {},
   "source": [
    "# Congratulations!\n",
    "\n",
    "That was a small, simple step in the direction of Agentic AI, with your new environment!\n",
    "\n",
    "Next time things get more interesting..."
   ]
  },
  {
   "cell_type": "markdown",
   "metadata": {},
   "source": [
    "<table style=\"margin: 0; text-align: left; width:100%\">\n",
    "    <tr>\n",
    "        <td style=\"width: 150px; height: 150px; vertical-align: middle;\">\n",
    "            <img src=\"../assets/exercise.png\" width=\"150\" height=\"150\" style=\"display: block;\" />\n",
    "        </td>\n",
    "        <td>\n",
    "            <h2 style=\"color:#ff7800;\">Exercise</h2>\n",
    "            <span style=\"color:#ff7800;\">Now try this commercial application:<br/>\n",
    "            First ask the LLM to pick a business area that might be worth exploring for an Agentic AI opportunity.<br/>\n",
    "            Then ask the LLM to present a pain-point in that industry - something challenging that might be ripe for an Agentic solution.<br/>\n",
    "            Finally have 3 third LLM call propose the Agentic AI solution. <br/>\n",
    "            We will cover this at up-coming labs, so don't worry if you're unsure.. just give it a try!\n",
    "            </span>\n",
    "        </td>\n",
    "    </tr>\n",
    "</table>"
   ]
  },
  {
   "cell_type": "code",
   "execution_count": null,
   "metadata": {},
   "outputs": [],
   "source": [
    "# First create the messages:\n",
    "\n",
    "messages = [{\"role\": \"user\", \"content\": \"Something here\"}]\n",
    "\n",
    "# Then make the first call:\n",
    "\n",
    "response =\n",
    "\n",
    "# Then read the business idea:\n",
    "\n",
    "business_idea = response.\n",
    "\n",
    "# And repeat! In the next message, include the business idea within the message"
   ]
  },
  {
   "cell_type": "markdown",
   "metadata": {},
   "source": []
  }
 ],
 "metadata": {
  "kernelspec": {
   "display_name": ".venv",
   "language": "python",
   "name": "python3"
  },
  "language_info": {
   "codemirror_mode": {
    "name": "ipython",
    "version": 3
   },
   "file_extension": ".py",
   "mimetype": "text/x-python",
   "name": "python",
   "nbconvert_exporter": "python",
   "pygments_lexer": "ipython3",
   "version": "3.12.7"
  }
 },
 "nbformat": 4,
 "nbformat_minor": 2
}
